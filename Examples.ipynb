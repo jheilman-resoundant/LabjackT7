{
 "cells": [
  {
   "cell_type": "code",
   "execution_count": 2,
   "metadata": {},
   "outputs": [
    {
     "name": "stdout",
     "output_type": "stream",
     "text": [
      "Connected to LabJack type 7\n",
      "  Connection type 3\n",
      "  Serial number 470033776\n",
      "  IP Address 192.168.1.29\n",
      "  Port 502\n"
     ]
    }
   ],
   "source": [
    "from labjackt7  import LabjackT7\n",
    "labjack = LabjackT7()"
   ]
  },
  {
   "cell_type": "markdown",
   "metadata": {},
   "source": [
    "# Analog I/O\n",
    "Here's a simple loopback test where we generate 1 V on channel DAC0 and measure it on ADC0:"
   ]
  },
  {
   "cell_type": "code",
   "execution_count": 3,
   "metadata": {},
   "outputs": [
    {
     "data": {
      "text/plain": [
       "10.119038581848145"
      ]
     },
     "execution_count": 3,
     "metadata": {},
     "output_type": "execute_result"
    }
   ],
   "source": [
    "labjack.analog.aout(0, 1)\n",
    "labjack.analog.ain(0)"
   ]
  },
  {
   "cell_type": "markdown",
   "metadata": {},
   "source": [
    "The LJTick-DAC (TDAC) adapter board can generate voltages from -10 to 10 V. Here's another loopback test where we generate -6 V on TDAC0 and measure it on ADC1:"
   ]
  },
  {
   "cell_type": "code",
   "execution_count": 4,
   "metadata": {},
   "outputs": [],
   "source": [
    "# labjack.analog.TDAC(0, -6)\n",
    "# labjack.analog.AIn(1)"
   ]
  },
  {
   "cell_type": "markdown",
   "metadata": {},
   "source": [
    "# Digital I/O\n",
    "Here's a loopback test where we output a series of bits on FIO0 and read them on DIO1:"
   ]
  },
  {
   "cell_type": "code",
   "execution_count": 8,
   "metadata": {},
   "outputs": [
    {
     "name": "stdout",
     "output_type": "stream",
     "text": [
      "[0, 1, 1, 0, 1]\n"
     ]
    }
   ],
   "source": [
    "import time\n",
    "write_bits = [0, 1, 1, 0, 1]\n",
    "read_bits = []\n",
    "\n",
    "for bit in write_bits:\n",
    "    labjack.digital.dout('DIO0', bit)\n",
    "    time.sleep(0.1)\n",
    "    read_bits.append(labjack.digital.din('DIO1'))\n",
    "    \n",
    "print(read_bits)"
   ]
  },
  {
   "cell_type": "markdown",
   "metadata": {},
   "source": [
    "# Temperature sensing\n",
    "The LabJack can be used with type J or K thermocouples to measure temperatures. Here's an example using channels AIN2 and AIN3 for the positive and negative leads of a type J thermocouple:"
   ]
  },
  {
   "cell_type": "code",
   "execution_count": null,
   "metadata": {},
   "outputs": [],
   "source": [
    "labjack.temperature.configure(pos_ch=2, neg_ch=3, thermocouple_type='J')\n",
    "labjack.temperature.temp_in(2)"
   ]
  },
  {
   "cell_type": "markdown",
   "metadata": {},
   "source": [
    "# Waveform generation\n",
    "Now we'll demonstrate generation of arbitrary waveforms with the LabJack. Connect DAC1 to an oscilloscope and run the following:"
   ]
  },
  {
   "cell_type": "code",
   "execution_count": null,
   "metadata": {},
   "outputs": [],
   "source": [
    "import numpy as np\n",
    "f = 5e3                                       # frequency of waveform\n",
    "t = np.linspace(0, 1/f, 3000)                 # time axis of waveform\n",
    "# V = 2.5*(1+np.sin(2*np.pi*f*t))               # sine wave\n",
    "# V = 5*( t > t.max()/2 )                       # square wave\n",
    "V = 5 * (t / t.max())                         # triangle wave\n",
    "\n",
    "labjack.waveform.start(t, V, channels = [1])  # start generation"
   ]
  },
  {
   "cell_type": "markdown",
   "metadata": {},
   "source": [
    "# Pattern generation\n",
    "We can also use the LabJack as a digital pattern generator. Let's create a timing sequence where FIO3 goes high for 1 ms, low for 500 us, high for 2 ms, then low for 1 ms:"
   ]
  },
  {
   "cell_type": "code",
   "execution_count": null,
   "metadata": {},
   "outputs": [],
   "source": [
    "period=4.5e-3\n",
    "sequence = {3: [(0, 1),         # start high\n",
    "                (1e-3, 0),    \n",
    "                (1.5e-3, 1),\n",
    "                (3.5e-3, 0)]}\n",
    "\n",
    "labjack.pattern.start(sequence, period)"
   ]
  },
  {
   "cell_type": "code",
   "execution_count": null,
   "metadata": {},
   "outputs": [],
   "source": []
  }
 ],
 "metadata": {
  "kernelspec": {
   "display_name": "venv",
   "language": "python",
   "name": "python3"
  },
  "language_info": {
   "codemirror_mode": {
    "name": "ipython",
    "version": 3
   },
   "file_extension": ".py",
   "mimetype": "text/x-python",
   "name": "python",
   "nbconvert_exporter": "python",
   "pygments_lexer": "ipython3",
   "version": "3.10.12"
  },
  "toc": {
   "base_numbering": 1,
   "nav_menu": {},
   "number_sections": true,
   "sideBar": true,
   "skip_h1_title": false,
   "title_cell": "Table of Contents",
   "title_sidebar": "Contents",
   "toc_cell": false,
   "toc_position": {},
   "toc_section_display": true,
   "toc_window_display": true
  }
 },
 "nbformat": 4,
 "nbformat_minor": 2
}
